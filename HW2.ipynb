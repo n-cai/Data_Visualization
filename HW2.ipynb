{
  "nbformat": 4,
  "nbformat_minor": 0,
  "metadata": {
    "colab": {
      "provenance": [],
      "authorship_tag": "ABX9TyNbBzPxPmKcmjzZA7Otj9NV",
      "include_colab_link": true
    },
    "kernelspec": {
      "name": "python3",
      "display_name": "Python 3"
    },
    "language_info": {
      "name": "python"
    }
  },
  "cells": [
    {
      "cell_type": "markdown",
      "metadata": {
        "id": "view-in-github",
        "colab_type": "text"
      },
      "source": [
        "<a href=\"https://colab.research.google.com/github/n-cai/Data_Visualization/blob/main/HW2.ipynb\" target=\"_parent\"><img src=\"https://colab.research.google.com/assets/colab-badge.svg\" alt=\"Open In Colab\"/></a>"
      ]
    },
    {
      "cell_type": "code",
      "execution_count": null,
      "metadata": {
        "id": "iCNAkP5WRdW5"
      },
      "outputs": [],
      "source": [
        "import pandas as pd\n",
        "import seaborn as sns\n",
        "import matplotlib.pyplot as plt"
      ]
    },
    {
      "cell_type": "markdown",
      "source": [
        "# Data Import"
      ],
      "metadata": {
        "id": "ye9smA3MR5Za"
      }
    },
    {
      "cell_type": "code",
      "source": [
        "df=pd.read_csv('Nigerian_Car_Prices.csv', index_col=0)\n",
        "df.head()"
      ],
      "metadata": {
        "colab": {
          "base_uri": "https://localhost:8080/",
          "height": 340
        },
        "id": "j_k-jGV5SBoQ",
        "outputId": "049e5ea3-97f5-4c55-84b5-54241900fce2"
      },
      "execution_count": null,
      "outputs": [
        {
          "output_type": "execute_result",
          "data": {
            "text/plain": [
              "            Make  Year of manufacture      Condition   Mileage  Engine Size  \\\n",
              "0         Toyota               2007.0  Nigerian Used  166418.0       2400.0   \n",
              "1          Lexus                  NaN            NaN  138024.0          NaN   \n",
              "2  Mercedes-Benz               2008.0  Nigerian Used  376807.0       3000.0   \n",
              "3          Lexus                  NaN            NaN  213362.0          NaN   \n",
              "4  Mercedes-Benz                  NaN            NaN  106199.0          NaN   \n",
              "\n",
              "     Fuel Transmission      Price Build  \n",
              "0  Petrol    Automatic  3,120,000   NaN  \n",
              "1     NaN    Automatic  5,834,000   NaN  \n",
              "2  Petrol    Automatic  3,640,000   NaN  \n",
              "3     NaN    Automatic  3,594,000   NaN  \n",
              "4     NaN    Automatic  8,410,000   NaN  "
            ],
            "text/html": [
              "\n",
              "  <div id=\"df-cde279d0-c47e-46c8-877b-0e280a63f127\">\n",
              "    <div class=\"colab-df-container\">\n",
              "      <div>\n",
              "<style scoped>\n",
              "    .dataframe tbody tr th:only-of-type {\n",
              "        vertical-align: middle;\n",
              "    }\n",
              "\n",
              "    .dataframe tbody tr th {\n",
              "        vertical-align: top;\n",
              "    }\n",
              "\n",
              "    .dataframe thead th {\n",
              "        text-align: right;\n",
              "    }\n",
              "</style>\n",
              "<table border=\"1\" class=\"dataframe\">\n",
              "  <thead>\n",
              "    <tr style=\"text-align: right;\">\n",
              "      <th></th>\n",
              "      <th>Make</th>\n",
              "      <th>Year of manufacture</th>\n",
              "      <th>Condition</th>\n",
              "      <th>Mileage</th>\n",
              "      <th>Engine Size</th>\n",
              "      <th>Fuel</th>\n",
              "      <th>Transmission</th>\n",
              "      <th>Price</th>\n",
              "      <th>Build</th>\n",
              "    </tr>\n",
              "  </thead>\n",
              "  <tbody>\n",
              "    <tr>\n",
              "      <th>0</th>\n",
              "      <td>Toyota</td>\n",
              "      <td>2007.0</td>\n",
              "      <td>Nigerian Used</td>\n",
              "      <td>166418.0</td>\n",
              "      <td>2400.0</td>\n",
              "      <td>Petrol</td>\n",
              "      <td>Automatic</td>\n",
              "      <td>3,120,000</td>\n",
              "      <td>NaN</td>\n",
              "    </tr>\n",
              "    <tr>\n",
              "      <th>1</th>\n",
              "      <td>Lexus</td>\n",
              "      <td>NaN</td>\n",
              "      <td>NaN</td>\n",
              "      <td>138024.0</td>\n",
              "      <td>NaN</td>\n",
              "      <td>NaN</td>\n",
              "      <td>Automatic</td>\n",
              "      <td>5,834,000</td>\n",
              "      <td>NaN</td>\n",
              "    </tr>\n",
              "    <tr>\n",
              "      <th>2</th>\n",
              "      <td>Mercedes-Benz</td>\n",
              "      <td>2008.0</td>\n",
              "      <td>Nigerian Used</td>\n",
              "      <td>376807.0</td>\n",
              "      <td>3000.0</td>\n",
              "      <td>Petrol</td>\n",
              "      <td>Automatic</td>\n",
              "      <td>3,640,000</td>\n",
              "      <td>NaN</td>\n",
              "    </tr>\n",
              "    <tr>\n",
              "      <th>3</th>\n",
              "      <td>Lexus</td>\n",
              "      <td>NaN</td>\n",
              "      <td>NaN</td>\n",
              "      <td>213362.0</td>\n",
              "      <td>NaN</td>\n",
              "      <td>NaN</td>\n",
              "      <td>Automatic</td>\n",
              "      <td>3,594,000</td>\n",
              "      <td>NaN</td>\n",
              "    </tr>\n",
              "    <tr>\n",
              "      <th>4</th>\n",
              "      <td>Mercedes-Benz</td>\n",
              "      <td>NaN</td>\n",
              "      <td>NaN</td>\n",
              "      <td>106199.0</td>\n",
              "      <td>NaN</td>\n",
              "      <td>NaN</td>\n",
              "      <td>Automatic</td>\n",
              "      <td>8,410,000</td>\n",
              "      <td>NaN</td>\n",
              "    </tr>\n",
              "  </tbody>\n",
              "</table>\n",
              "</div>\n",
              "      <button class=\"colab-df-convert\" onclick=\"convertToInteractive('df-cde279d0-c47e-46c8-877b-0e280a63f127')\"\n",
              "              title=\"Convert this dataframe to an interactive table.\"\n",
              "              style=\"display:none;\">\n",
              "        \n",
              "  <svg xmlns=\"http://www.w3.org/2000/svg\" height=\"24px\"viewBox=\"0 0 24 24\"\n",
              "       width=\"24px\">\n",
              "    <path d=\"M0 0h24v24H0V0z\" fill=\"none\"/>\n",
              "    <path d=\"M18.56 5.44l.94 2.06.94-2.06 2.06-.94-2.06-.94-.94-2.06-.94 2.06-2.06.94zm-11 1L8.5 8.5l.94-2.06 2.06-.94-2.06-.94L8.5 2.5l-.94 2.06-2.06.94zm10 10l.94 2.06.94-2.06 2.06-.94-2.06-.94-.94-2.06-.94 2.06-2.06.94z\"/><path d=\"M17.41 7.96l-1.37-1.37c-.4-.4-.92-.59-1.43-.59-.52 0-1.04.2-1.43.59L10.3 9.45l-7.72 7.72c-.78.78-.78 2.05 0 2.83L4 21.41c.39.39.9.59 1.41.59.51 0 1.02-.2 1.41-.59l7.78-7.78 2.81-2.81c.8-.78.8-2.07 0-2.86zM5.41 20L4 18.59l7.72-7.72 1.47 1.35L5.41 20z\"/>\n",
              "  </svg>\n",
              "      </button>\n",
              "      \n",
              "  <style>\n",
              "    .colab-df-container {\n",
              "      display:flex;\n",
              "      flex-wrap:wrap;\n",
              "      gap: 12px;\n",
              "    }\n",
              "\n",
              "    .colab-df-convert {\n",
              "      background-color: #E8F0FE;\n",
              "      border: none;\n",
              "      border-radius: 50%;\n",
              "      cursor: pointer;\n",
              "      display: none;\n",
              "      fill: #1967D2;\n",
              "      height: 32px;\n",
              "      padding: 0 0 0 0;\n",
              "      width: 32px;\n",
              "    }\n",
              "\n",
              "    .colab-df-convert:hover {\n",
              "      background-color: #E2EBFA;\n",
              "      box-shadow: 0px 1px 2px rgba(60, 64, 67, 0.3), 0px 1px 3px 1px rgba(60, 64, 67, 0.15);\n",
              "      fill: #174EA6;\n",
              "    }\n",
              "\n",
              "    [theme=dark] .colab-df-convert {\n",
              "      background-color: #3B4455;\n",
              "      fill: #D2E3FC;\n",
              "    }\n",
              "\n",
              "    [theme=dark] .colab-df-convert:hover {\n",
              "      background-color: #434B5C;\n",
              "      box-shadow: 0px 1px 3px 1px rgba(0, 0, 0, 0.15);\n",
              "      filter: drop-shadow(0px 1px 2px rgba(0, 0, 0, 0.3));\n",
              "      fill: #FFFFFF;\n",
              "    }\n",
              "  </style>\n",
              "\n",
              "      <script>\n",
              "        const buttonEl =\n",
              "          document.querySelector('#df-cde279d0-c47e-46c8-877b-0e280a63f127 button.colab-df-convert');\n",
              "        buttonEl.style.display =\n",
              "          google.colab.kernel.accessAllowed ? 'block' : 'none';\n",
              "\n",
              "        async function convertToInteractive(key) {\n",
              "          const element = document.querySelector('#df-cde279d0-c47e-46c8-877b-0e280a63f127');\n",
              "          const dataTable =\n",
              "            await google.colab.kernel.invokeFunction('convertToInteractive',\n",
              "                                                     [key], {});\n",
              "          if (!dataTable) return;\n",
              "\n",
              "          const docLinkHtml = 'Like what you see? Visit the ' +\n",
              "            '<a target=\"_blank\" href=https://colab.research.google.com/notebooks/data_table.ipynb>data table notebook</a>'\n",
              "            + ' to learn more about interactive tables.';\n",
              "          element.innerHTML = '';\n",
              "          dataTable['output_type'] = 'display_data';\n",
              "          await google.colab.output.renderOutput(dataTable, element);\n",
              "          const docLink = document.createElement('div');\n",
              "          docLink.innerHTML = docLinkHtml;\n",
              "          element.appendChild(docLink);\n",
              "        }\n",
              "      </script>\n",
              "    </div>\n",
              "  </div>\n",
              "  "
            ]
          },
          "metadata": {},
          "execution_count": 4
        }
      ]
    },
    {
      "cell_type": "markdown",
      "source": [
        "# Data Explore"
      ],
      "metadata": {
        "id": "bEDM_T5dR7YZ"
      }
    },
    {
      "cell_type": "code",
      "source": [
        "df.describe()"
      ],
      "metadata": {
        "colab": {
          "base_uri": "https://localhost:8080/",
          "height": 300
        },
        "id": "-PapaQYeYGzC",
        "outputId": "82dd96a2-a48b-4c48-ae49-3d114f51b9a8"
      },
      "execution_count": null,
      "outputs": [
        {
          "output_type": "execute_result",
          "data": {
            "text/plain": [
              "       Year of manufacture       Mileage    Engine Size\n",
              "count          3617.000000  4.024000e+03    3584.000000\n",
              "mean           2007.898535  1.825337e+05    3274.976562\n",
              "std               4.300126  2.109233e+05    7693.489588\n",
              "min            1992.000000  1.000000e+00       3.000000\n",
              "25%            2005.000000  1.020640e+05    2000.000000\n",
              "50%            2008.000000  1.613525e+05    2500.000000\n",
              "75%            2011.000000  2.319522e+05    3500.000000\n",
              "max            2021.000000  9.976050e+06  371000.000000"
            ],
            "text/html": [
              "\n",
              "  <div id=\"df-85aab72b-3fd5-4e7e-a8ca-ef3d059b7a13\">\n",
              "    <div class=\"colab-df-container\">\n",
              "      <div>\n",
              "<style scoped>\n",
              "    .dataframe tbody tr th:only-of-type {\n",
              "        vertical-align: middle;\n",
              "    }\n",
              "\n",
              "    .dataframe tbody tr th {\n",
              "        vertical-align: top;\n",
              "    }\n",
              "\n",
              "    .dataframe thead th {\n",
              "        text-align: right;\n",
              "    }\n",
              "</style>\n",
              "<table border=\"1\" class=\"dataframe\">\n",
              "  <thead>\n",
              "    <tr style=\"text-align: right;\">\n",
              "      <th></th>\n",
              "      <th>Year of manufacture</th>\n",
              "      <th>Mileage</th>\n",
              "      <th>Engine Size</th>\n",
              "    </tr>\n",
              "  </thead>\n",
              "  <tbody>\n",
              "    <tr>\n",
              "      <th>count</th>\n",
              "      <td>3617.000000</td>\n",
              "      <td>4.024000e+03</td>\n",
              "      <td>3584.000000</td>\n",
              "    </tr>\n",
              "    <tr>\n",
              "      <th>mean</th>\n",
              "      <td>2007.898535</td>\n",
              "      <td>1.825337e+05</td>\n",
              "      <td>3274.976562</td>\n",
              "    </tr>\n",
              "    <tr>\n",
              "      <th>std</th>\n",
              "      <td>4.300126</td>\n",
              "      <td>2.109233e+05</td>\n",
              "      <td>7693.489588</td>\n",
              "    </tr>\n",
              "    <tr>\n",
              "      <th>min</th>\n",
              "      <td>1992.000000</td>\n",
              "      <td>1.000000e+00</td>\n",
              "      <td>3.000000</td>\n",
              "    </tr>\n",
              "    <tr>\n",
              "      <th>25%</th>\n",
              "      <td>2005.000000</td>\n",
              "      <td>1.020640e+05</td>\n",
              "      <td>2000.000000</td>\n",
              "    </tr>\n",
              "    <tr>\n",
              "      <th>50%</th>\n",
              "      <td>2008.000000</td>\n",
              "      <td>1.613525e+05</td>\n",
              "      <td>2500.000000</td>\n",
              "    </tr>\n",
              "    <tr>\n",
              "      <th>75%</th>\n",
              "      <td>2011.000000</td>\n",
              "      <td>2.319522e+05</td>\n",
              "      <td>3500.000000</td>\n",
              "    </tr>\n",
              "    <tr>\n",
              "      <th>max</th>\n",
              "      <td>2021.000000</td>\n",
              "      <td>9.976050e+06</td>\n",
              "      <td>371000.000000</td>\n",
              "    </tr>\n",
              "  </tbody>\n",
              "</table>\n",
              "</div>\n",
              "      <button class=\"colab-df-convert\" onclick=\"convertToInteractive('df-85aab72b-3fd5-4e7e-a8ca-ef3d059b7a13')\"\n",
              "              title=\"Convert this dataframe to an interactive table.\"\n",
              "              style=\"display:none;\">\n",
              "        \n",
              "  <svg xmlns=\"http://www.w3.org/2000/svg\" height=\"24px\"viewBox=\"0 0 24 24\"\n",
              "       width=\"24px\">\n",
              "    <path d=\"M0 0h24v24H0V0z\" fill=\"none\"/>\n",
              "    <path d=\"M18.56 5.44l.94 2.06.94-2.06 2.06-.94-2.06-.94-.94-2.06-.94 2.06-2.06.94zm-11 1L8.5 8.5l.94-2.06 2.06-.94-2.06-.94L8.5 2.5l-.94 2.06-2.06.94zm10 10l.94 2.06.94-2.06 2.06-.94-2.06-.94-.94-2.06-.94 2.06-2.06.94z\"/><path d=\"M17.41 7.96l-1.37-1.37c-.4-.4-.92-.59-1.43-.59-.52 0-1.04.2-1.43.59L10.3 9.45l-7.72 7.72c-.78.78-.78 2.05 0 2.83L4 21.41c.39.39.9.59 1.41.59.51 0 1.02-.2 1.41-.59l7.78-7.78 2.81-2.81c.8-.78.8-2.07 0-2.86zM5.41 20L4 18.59l7.72-7.72 1.47 1.35L5.41 20z\"/>\n",
              "  </svg>\n",
              "      </button>\n",
              "      \n",
              "  <style>\n",
              "    .colab-df-container {\n",
              "      display:flex;\n",
              "      flex-wrap:wrap;\n",
              "      gap: 12px;\n",
              "    }\n",
              "\n",
              "    .colab-df-convert {\n",
              "      background-color: #E8F0FE;\n",
              "      border: none;\n",
              "      border-radius: 50%;\n",
              "      cursor: pointer;\n",
              "      display: none;\n",
              "      fill: #1967D2;\n",
              "      height: 32px;\n",
              "      padding: 0 0 0 0;\n",
              "      width: 32px;\n",
              "    }\n",
              "\n",
              "    .colab-df-convert:hover {\n",
              "      background-color: #E2EBFA;\n",
              "      box-shadow: 0px 1px 2px rgba(60, 64, 67, 0.3), 0px 1px 3px 1px rgba(60, 64, 67, 0.15);\n",
              "      fill: #174EA6;\n",
              "    }\n",
              "\n",
              "    [theme=dark] .colab-df-convert {\n",
              "      background-color: #3B4455;\n",
              "      fill: #D2E3FC;\n",
              "    }\n",
              "\n",
              "    [theme=dark] .colab-df-convert:hover {\n",
              "      background-color: #434B5C;\n",
              "      box-shadow: 0px 1px 3px 1px rgba(0, 0, 0, 0.15);\n",
              "      filter: drop-shadow(0px 1px 2px rgba(0, 0, 0, 0.3));\n",
              "      fill: #FFFFFF;\n",
              "    }\n",
              "  </style>\n",
              "\n",
              "      <script>\n",
              "        const buttonEl =\n",
              "          document.querySelector('#df-85aab72b-3fd5-4e7e-a8ca-ef3d059b7a13 button.colab-df-convert');\n",
              "        buttonEl.style.display =\n",
              "          google.colab.kernel.accessAllowed ? 'block' : 'none';\n",
              "\n",
              "        async function convertToInteractive(key) {\n",
              "          const element = document.querySelector('#df-85aab72b-3fd5-4e7e-a8ca-ef3d059b7a13');\n",
              "          const dataTable =\n",
              "            await google.colab.kernel.invokeFunction('convertToInteractive',\n",
              "                                                     [key], {});\n",
              "          if (!dataTable) return;\n",
              "\n",
              "          const docLinkHtml = 'Like what you see? Visit the ' +\n",
              "            '<a target=\"_blank\" href=https://colab.research.google.com/notebooks/data_table.ipynb>data table notebook</a>'\n",
              "            + ' to learn more about interactive tables.';\n",
              "          element.innerHTML = '';\n",
              "          dataTable['output_type'] = 'display_data';\n",
              "          await google.colab.output.renderOutput(dataTable, element);\n",
              "          const docLink = document.createElement('div');\n",
              "          docLink.innerHTML = docLinkHtml;\n",
              "          element.appendChild(docLink);\n",
              "        }\n",
              "      </script>\n",
              "    </div>\n",
              "  </div>\n",
              "  "
            ]
          },
          "metadata": {},
          "execution_count": 5
        }
      ]
    },
    {
      "cell_type": "code",
      "source": [
        "df.info()"
      ],
      "metadata": {
        "colab": {
          "base_uri": "https://localhost:8080/"
        },
        "id": "Q3vHcHrsZHjE",
        "outputId": "8381eeed-0c1d-4bbc-fdd8-2f20b5ae6e55"
      },
      "execution_count": null,
      "outputs": [
        {
          "output_type": "stream",
          "name": "stdout",
          "text": [
            "<class 'pandas.core.frame.DataFrame'>\n",
            "Int64Index: 4095 entries, 0 to 4094\n",
            "Data columns (total 9 columns):\n",
            " #   Column               Non-Null Count  Dtype  \n",
            "---  ------               --------------  -----  \n",
            " 0   Make                 4095 non-null   object \n",
            " 1   Year of manufacture  3617 non-null   float64\n",
            " 2   Condition            3616 non-null   object \n",
            " 3   Mileage              4024 non-null   float64\n",
            " 4   Engine Size          3584 non-null   float64\n",
            " 5   Fuel                 3607 non-null   object \n",
            " 6   Transmission         4075 non-null   object \n",
            " 7   Price                4095 non-null   object \n",
            " 8   Build                1127 non-null   object \n",
            "dtypes: float64(3), object(6)\n",
            "memory usage: 319.9+ KB\n"
          ]
        }
      ]
    },
    {
      "cell_type": "code",
      "source": [
        "df['Price']=df['Price'].astype('str').replace(',','', regex=True).astype('float64')\n",
        "#print (df['Price'])\n",
        "df['Year of manufacture']=df['Year of manufacture'].astype('str').replace('\\.0','', regex=True)\n",
        "print(df['Year of manufacture'])\n"
      ],
      "metadata": {
        "colab": {
          "base_uri": "https://localhost:8080/"
        },
        "id": "FoLoNb-teQ7x",
        "outputId": "67ed4128-6b1e-45d1-e7c4-8fd8376e986f"
      },
      "execution_count": null,
      "outputs": [
        {
          "output_type": "stream",
          "name": "stdout",
          "text": [
            "0       2007\n",
            "1        nan\n",
            "2       2008\n",
            "3        nan\n",
            "4        nan\n",
            "        ... \n",
            "4090    2004\n",
            "4091    2005\n",
            "4092    2006\n",
            "4093    2007\n",
            "4094    2013\n",
            "Name: Year of manufacture, Length: 4095, dtype: object\n"
          ]
        }
      ]
    },
    {
      "cell_type": "code",
      "source": [
        "numerical_cols=df.columns[df.dtypes=='float64'].to_list()\n",
        "print(numerical_cols)\n",
        "categorical_cols=df.columns[df.dtypes=='object'].to_list()\n",
        "binary_cols=df[categorical_cols].nunique()[df[categorical_cols].nunique()==2].index.to_list()\n",
        "single_cols=df[categorical_cols].nunique()[df[categorical_cols].nunique()==1].index.to_list()\n",
        "multi_cols=df[categorical_cols].nunique()[df[categorical_cols].nunique()>2].index.to_list()\n",
        "print (binary_cols)\n",
        "print(single_cols)\n",
        "print(multi_cols)"
      ],
      "metadata": {
        "colab": {
          "base_uri": "https://localhost:8080/"
        },
        "id": "3ELPpGLhZYTb",
        "outputId": "0f0645c5-8318-4e5e-b10d-8f18ceccaefe"
      },
      "execution_count": null,
      "outputs": [
        {
          "output_type": "stream",
          "name": "stdout",
          "text": [
            "['Mileage', 'Engine Size', 'Price']\n",
            "[]\n",
            "['Build']\n",
            "['Make', 'Year of manufacture', 'Condition', 'Fuel', 'Transmission']\n"
          ]
        }
      ]
    },
    {
      "cell_type": "code",
      "source": [
        "for item in multi_cols:\n",
        "  print(item)\n",
        "  print(df[item].value_counts(dropna=False))\n",
        "  print('--------------------------------')\n"
      ],
      "metadata": {
        "colab": {
          "base_uri": "https://localhost:8080/"
        },
        "id": "2t32-ZUAc4tT",
        "outputId": "d85d5746-c585-477a-dee5-44723646391a"
      },
      "execution_count": null,
      "outputs": [
        {
          "output_type": "stream",
          "name": "stdout",
          "text": [
            "Make\n",
            "Toyota           1469\n",
            "Lexus             464\n",
            "Mercedes-Benz     436\n",
            "Honda             428\n",
            "Ford              197\n",
            "Hyundai           179\n",
            "Nissan            173\n",
            "Kia                90\n",
            "Land Rover         74\n",
            "Volkswagen         64\n",
            "Mazda              63\n",
            "BMW                63\n",
            "Acura              56\n",
            "Infiniti           41\n",
            "Chevrolet          40\n",
            "Peugeot            36\n",
            "Mitsubishi         23\n",
            "Pontiac            22\n",
            "Volvo              22\n",
            "Suzuki             21\n",
            "Dodge              17\n",
            "Audi               14\n",
            "Opel               12\n",
            "Jaguar             11\n",
            "Jeep               11\n",
            "Porsche             9\n",
            "Renault             8\n",
            "Chrysler            7\n",
            "Fiat                6\n",
            "GMC                 5\n",
            "Changan             4\n",
            "Lincoln             4\n",
            "Skoda               3\n",
            "Hummer              2\n",
            "Buick               2\n",
            "JAC                 2\n",
            "Citroen             2\n",
            "Isuzu               2\n",
            "Mini                2\n",
            "MG                  2\n",
            "Rover               1\n",
            "Bentley             1\n",
            "Seat                1\n",
            "SsangYong           1\n",
            "Cadillac            1\n",
            "Saturn              1\n",
            "Tata                1\n",
            "Foton               1\n",
            "Daihatsu            1\n",
            "Name: Make, dtype: int64\n",
            "--------------------------------\n",
            "Year of manufacture\n",
            "nan     478\n",
            "2007    436\n",
            "2008    364\n",
            "2006    279\n",
            "2009    277\n",
            "2010    277\n",
            "2004    246\n",
            "2005    236\n",
            "2011    215\n",
            "2003    184\n",
            "2013    182\n",
            "2012    181\n",
            "2014    144\n",
            "2002    132\n",
            "2015     93\n",
            "2001     85\n",
            "2000     56\n",
            "2016     53\n",
            "1999     43\n",
            "2017     39\n",
            "2018     26\n",
            "1998     19\n",
            "1997     13\n",
            "2020     12\n",
            "2019     10\n",
            "1995      5\n",
            "1996      4\n",
            "2021      3\n",
            "1992      2\n",
            "1994      1\n",
            "Name: Year of manufacture, dtype: int64\n",
            "--------------------------------\n",
            "Condition\n",
            "Nigerian Used    2521\n",
            "Foreign Used     1090\n",
            "NaN               479\n",
            "Brand New           5\n",
            "Name: Condition, dtype: int64\n",
            "--------------------------------\n",
            "Fuel\n",
            "Petrol      3535\n",
            "NaN          488\n",
            "Diesel        37\n",
            "Hybrid        30\n",
            "Electric       5\n",
            "Name: Fuel, dtype: int64\n",
            "--------------------------------\n",
            "Transmission\n",
            "Automatic    3810\n",
            "Manual        230\n",
            "CVT            22\n",
            "NaN            20\n",
            "AMT            13\n",
            "Name: Transmission, dtype: int64\n",
            "--------------------------------\n"
          ]
        }
      ]
    },
    {
      "cell_type": "markdown",
      "source": [
        "# Data Clean\n"
      ],
      "metadata": {
        "id": "lv-BgS-9vPKP"
      }
    },
    {
      "cell_type": "code",
      "source": [
        "for item in numerical_cols:\n",
        "  print(item)\n",
        "  print(df[item].isna().sum())"
      ],
      "metadata": {
        "colab": {
          "base_uri": "https://localhost:8080/"
        },
        "id": "zBAx9REPvSon",
        "outputId": "436e06e3-df57-4c4d-c7ee-b6e5e3eb40f4"
      },
      "execution_count": null,
      "outputs": [
        {
          "output_type": "stream",
          "name": "stdout",
          "text": [
            "Mileage\n",
            "71\n",
            "Engine Size\n",
            "511\n",
            "Price\n",
            "0\n"
          ]
        }
      ]
    },
    {
      "cell_type": "code",
      "source": [
        "print(df['Make'].isna().sum())"
      ],
      "metadata": {
        "colab": {
          "base_uri": "https://localhost:8080/"
        },
        "id": "kXXky5gjvtxT",
        "outputId": "baf8aff6-b41f-4eee-dd92-5ac6a88665d3"
      },
      "execution_count": null,
      "outputs": [
        {
          "output_type": "stream",
          "name": "stdout",
          "text": [
            "0\n"
          ]
        }
      ]
    },
    {
      "cell_type": "code",
      "source": [
        "df_clean=df.dropna(subset=['Mileage'])\n",
        "print(df_clean)"
      ],
      "metadata": {
        "colab": {
          "base_uri": "https://localhost:8080/"
        },
        "id": "dQWpxt-TwXa5",
        "outputId": "39fc96e1-2089-4de1-ed0b-1bfa36825f15"
      },
      "execution_count": null,
      "outputs": [
        {
          "output_type": "stream",
          "name": "stdout",
          "text": [
            "               Make Year of manufacture      Condition   Mileage  Engine Size  \\\n",
            "0            Toyota                2007  Nigerian Used  166418.0       2400.0   \n",
            "1             Lexus                 nan            NaN  138024.0          NaN   \n",
            "2     Mercedes-Benz                2008  Nigerian Used  376807.0       3000.0   \n",
            "3             Lexus                 nan            NaN  213362.0          NaN   \n",
            "4     Mercedes-Benz                 nan            NaN  106199.0          NaN   \n",
            "...             ...                 ...            ...       ...          ...   \n",
            "4090          Honda                2004  Nigerian Used  207446.0       3500.0   \n",
            "4091         Toyota                2005  Nigerian Used  106914.0       1800.0   \n",
            "4092          Honda                2006  Nigerian Used  247149.0       1800.0   \n",
            "4093         Toyota                2007  Nigerian Used  249325.0       2500.0   \n",
            "4094         Toyota                2013   Foreign Used  235184.0       2500.0   \n",
            "\n",
            "        Fuel Transmission      Price Build  \n",
            "0     Petrol    Automatic  3120000.0   NaN  \n",
            "1        NaN    Automatic  5834000.0   NaN  \n",
            "2     Petrol    Automatic  3640000.0   NaN  \n",
            "3        NaN    Automatic  3594000.0   NaN  \n",
            "4        NaN    Automatic  8410000.0   NaN  \n",
            "...      ...          ...        ...   ...  \n",
            "4090  Petrol    Automatic  1125000.0   NaN  \n",
            "4091  Petrol    Automatic  2643750.0   NaN  \n",
            "4092  Petrol    Automatic  1462500.0   NaN  \n",
            "4093  Petrol    Automatic  2475000.0   NaN  \n",
            "4094  Petrol    Automatic  6300000.0   NaN  \n",
            "\n",
            "[4024 rows x 9 columns]\n"
          ]
        }
      ]
    },
    {
      "cell_type": "code",
      "source": [
        "df_new=df_clean[(df_clean['Make']=='Toyota') | (df_clean['Make']=='Lexus') | (df_clean['Make']=='Mercedes-Benz') | (df_clean['Make']=='Honda')]\n",
        "print(df_new)\n",
        "#df_new['Make'].value_counts()\n",
        "plt.figure(figsize=(15,8))\n",
        "results=sns.lineplot(data=df_new, x='Mileage', y='Price', hue='Make')\n",
        "results.set(xscale='log')\n",
        "results.set(yscale='log')\n",
        "plt.title('Mileage vs Price')\n",
        "plt.show()"
      ],
      "metadata": {
        "colab": {
          "base_uri": "https://localhost:8080/",
          "height": 872
        },
        "id": "5gPuVDVhyICa",
        "outputId": "3ffd023c-f365-4bac-fd72-65abe8e473df"
      },
      "execution_count": null,
      "outputs": [
        {
          "output_type": "stream",
          "name": "stdout",
          "text": [
            "               Make Year of manufacture      Condition   Mileage  Engine Size  \\\n",
            "0            Toyota                2007  Nigerian Used  166418.0       2400.0   \n",
            "1             Lexus                 nan            NaN  138024.0          NaN   \n",
            "2     Mercedes-Benz                2008  Nigerian Used  376807.0       3000.0   \n",
            "3             Lexus                 nan            NaN  213362.0          NaN   \n",
            "4     Mercedes-Benz                 nan            NaN  106199.0          NaN   \n",
            "...             ...                 ...            ...       ...          ...   \n",
            "4090          Honda                2004  Nigerian Used  207446.0       3500.0   \n",
            "4091         Toyota                2005  Nigerian Used  106914.0       1800.0   \n",
            "4092          Honda                2006  Nigerian Used  247149.0       1800.0   \n",
            "4093         Toyota                2007  Nigerian Used  249325.0       2500.0   \n",
            "4094         Toyota                2013   Foreign Used  235184.0       2500.0   \n",
            "\n",
            "        Fuel Transmission      Price Build  \n",
            "0     Petrol    Automatic  3120000.0   NaN  \n",
            "1        NaN    Automatic  5834000.0   NaN  \n",
            "2     Petrol    Automatic  3640000.0   NaN  \n",
            "3        NaN    Automatic  3594000.0   NaN  \n",
            "4        NaN    Automatic  8410000.0   NaN  \n",
            "...      ...          ...        ...   ...  \n",
            "4090  Petrol    Automatic  1125000.0   NaN  \n",
            "4091  Petrol    Automatic  2643750.0   NaN  \n",
            "4092  Petrol    Automatic  1462500.0   NaN  \n",
            "4093  Petrol    Automatic  2475000.0   NaN  \n",
            "4094  Petrol    Automatic  6300000.0   NaN  \n",
            "\n",
            "[2765 rows x 9 columns]\n"
          ]
        },
        {
          "output_type": "display_data",
          "data": {
            "text/plain": [
              "<Figure size 1080x576 with 1 Axes>"
            ],
            "image/png": "[encoded data removed]"
          },
          "metadata": {
            "needs_background": "light"
          }
        }
      ]
    },
    {
      "cell_type": "code",
      "source": [
        "df_new.dropna(subset=['Year of manufacture'])\n",
        "print(df_new['Year of manufacture'].isna().sum())\n",
        "sns.heatmap(df_new.pivot_table('Price', index='Year of manufacture', columns='Make'))\n"
      ],
      "metadata": {
        "colab": {
          "base_uri": "https://localhost:8080/",
          "height": 326
        },
        "id": "JRdFrRVx41vH",
        "outputId": "146ad763-db49-43b1-d51a-e92ae8f7d88e"
      },
      "execution_count": null,
      "outputs": [
        {
          "output_type": "stream",
          "name": "stdout",
          "text": [
            "0\n"
          ]
        },
        {
          "output_type": "execute_result",
          "data": {
            "text/plain": [
              "<matplotlib.axes._subplots.AxesSubplot at 0x7fd8ec93a4d0>"
            ]
          },
          "metadata": {},
          "execution_count": 17
        },
        {
          "output_type": "display_data",
          "data": {
            "text/plain": [
              "<Figure size 432x288 with 2 Axes>"
            ],
            "image/png": "[encoded data removed]"
          },
          "metadata": {
            "needs_background": "light"
          }
        }
      ]
    }
  ]
}